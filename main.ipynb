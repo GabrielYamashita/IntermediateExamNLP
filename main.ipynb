{
 "cells": [
  {
   "cell_type": "markdown",
   "id": "db8249ad-0216-4a58-a1f5-4d44c2a78d08",
   "metadata": {},
   "source": [
    "# Entrega Intermediária"
   ]
  },
  {
   "cell_type": "code",
   "execution_count": 1,
   "id": "e129e473-4620-4e47-9b64-c776a35fb0fd",
   "metadata": {},
   "outputs": [],
   "source": [
    "import os\n",
    "import urllib\n",
    "import numpy as np\n",
    "import pandas as pd\n",
    "import matplotlib.pyplot as plt"
   ]
  },
  {
   "cell_type": "code",
   "execution_count": 2,
   "id": "377a9588-a522-4620-ab4c-e93742c4b787",
   "metadata": {},
   "outputs": [
    {
     "data": {
      "text/plain": [
       "['olist_orders_dataset.csv',\n",
       " 'olist_order_reviews_dataset.csv',\n",
       " 'product_category_name_translation.csv']"
      ]
     },
     "execution_count": 2,
     "metadata": {},
     "output_type": "execute_result"
    }
   ],
   "source": [
    "path = 'C:/Users/gabri/Downloads/archive'\n",
    "os.listdir(path)"
   ]
  },
  {
   "cell_type": "code",
   "execution_count": 3,
   "id": "c9c36620-3078-4218-b3ab-e3bf9b51f680",
   "metadata": {},
   "outputs": [],
   "source": [
    "df_orders = pd.read_csv(f'{path}/olist_orders_dataset.csv', na_values=['', np.nan])\n",
    "# df_orders.head()"
   ]
  },
  {
   "cell_type": "code",
   "execution_count": 4,
   "id": "67feebdf-e757-429d-8753-597a5412f819",
   "metadata": {},
   "outputs": [],
   "source": [
    "df_reviews = pd.read_csv(f'{path}/olist_order_reviews_dataset.csv', na_values=['', np.nan])\n",
    "# df_reviews.head()"
   ]
  },
  {
   "cell_type": "code",
   "execution_count": 5,
   "id": "dfa8990c-c3ef-4801-9ab7-a3247e8d2b7e",
   "metadata": {},
   "outputs": [
    {
     "data": {
      "text/html": [
       "<div>\n",
       "<style scoped>\n",
       "    .dataframe tbody tr th:only-of-type {\n",
       "        vertical-align: middle;\n",
       "    }\n",
       "\n",
       "    .dataframe tbody tr th {\n",
       "        vertical-align: top;\n",
       "    }\n",
       "\n",
       "    .dataframe thead th {\n",
       "        text-align: right;\n",
       "    }\n",
       "</style>\n",
       "<table border=\"1\" class=\"dataframe\">\n",
       "  <thead>\n",
       "    <tr style=\"text-align: right;\">\n",
       "      <th></th>\n",
       "      <th>review_id</th>\n",
       "      <th>order_id</th>\n",
       "      <th>review_score</th>\n",
       "      <th>review_comment_title</th>\n",
       "      <th>review_comment_message</th>\n",
       "      <th>review_creation_date</th>\n",
       "      <th>review_answer_timestamp</th>\n",
       "      <th>customer_id</th>\n",
       "      <th>order_status</th>\n",
       "      <th>order_purchase_timestamp</th>\n",
       "      <th>order_approved_at</th>\n",
       "      <th>order_delivered_carrier_date</th>\n",
       "      <th>order_delivered_customer_date</th>\n",
       "      <th>order_estimated_delivery_date</th>\n",
       "    </tr>\n",
       "  </thead>\n",
       "  <tbody>\n",
       "    <tr>\n",
       "      <th>0</th>\n",
       "      <td>7bc2406110b926393aa56f80a40eba40</td>\n",
       "      <td>73fc7af87114b39712e6da79b0a377eb</td>\n",
       "      <td>4</td>\n",
       "      <td>NaN</td>\n",
       "      <td>NaN</td>\n",
       "      <td>2018-01-18 00:00:00</td>\n",
       "      <td>2018-01-18 21:46:59</td>\n",
       "      <td>41dcb106f807e993532d446263290104</td>\n",
       "      <td>delivered</td>\n",
       "      <td>2018-01-11 15:30:49</td>\n",
       "      <td>2018-01-11 15:47:59</td>\n",
       "      <td>2018-01-12 21:57:22</td>\n",
       "      <td>2018-01-17 18:42:41</td>\n",
       "      <td>2018-02-02 00:00:00</td>\n",
       "    </tr>\n",
       "    <tr>\n",
       "      <th>1</th>\n",
       "      <td>80e641a11e56f04c1ad469d5645fdfde</td>\n",
       "      <td>a548910a1c6147796b98fdf73dbeba33</td>\n",
       "      <td>5</td>\n",
       "      <td>NaN</td>\n",
       "      <td>NaN</td>\n",
       "      <td>2018-03-10 00:00:00</td>\n",
       "      <td>2018-03-11 03:05:13</td>\n",
       "      <td>8a2e7ef9053dea531e4dc76bd6d853e6</td>\n",
       "      <td>delivered</td>\n",
       "      <td>2018-02-28 12:25:19</td>\n",
       "      <td>2018-02-28 12:48:39</td>\n",
       "      <td>2018-03-02 19:08:15</td>\n",
       "      <td>2018-03-09 23:17:20</td>\n",
       "      <td>2018-03-14 00:00:00</td>\n",
       "    </tr>\n",
       "    <tr>\n",
       "      <th>2</th>\n",
       "      <td>228ce5500dc1d8e020d8d1322874b6f0</td>\n",
       "      <td>f9e4b658b201a9f2ecdecbb34bed034b</td>\n",
       "      <td>5</td>\n",
       "      <td>NaN</td>\n",
       "      <td>NaN</td>\n",
       "      <td>2018-02-17 00:00:00</td>\n",
       "      <td>2018-02-18 14:36:24</td>\n",
       "      <td>e226dfed6544df5b7b87a48208690feb</td>\n",
       "      <td>delivered</td>\n",
       "      <td>2018-02-03 09:56:22</td>\n",
       "      <td>2018-02-03 10:33:41</td>\n",
       "      <td>2018-02-06 16:18:28</td>\n",
       "      <td>2018-02-16 17:28:48</td>\n",
       "      <td>2018-03-09 00:00:00</td>\n",
       "    </tr>\n",
       "    <tr>\n",
       "      <th>3</th>\n",
       "      <td>e64fb393e7b32834bb789ff8bb30750e</td>\n",
       "      <td>658677c97b385a9be170737859d3511b</td>\n",
       "      <td>5</td>\n",
       "      <td>NaN</td>\n",
       "      <td>Recebi bem antes do prazo estipulado.</td>\n",
       "      <td>2017-04-21 00:00:00</td>\n",
       "      <td>2017-04-21 22:02:06</td>\n",
       "      <td>de6dff97e5f1ba84a3cd9a3bc97df5f6</td>\n",
       "      <td>delivered</td>\n",
       "      <td>2017-04-09 17:41:13</td>\n",
       "      <td>2017-04-09 17:55:19</td>\n",
       "      <td>2017-04-10 14:24:47</td>\n",
       "      <td>2017-04-20 09:08:35</td>\n",
       "      <td>2017-05-10 00:00:00</td>\n",
       "    </tr>\n",
       "    <tr>\n",
       "      <th>4</th>\n",
       "      <td>f7c4243c7fe1938f181bec41a392bdeb</td>\n",
       "      <td>8e6bfb81e283fa7e4f11123a3fb894f1</td>\n",
       "      <td>5</td>\n",
       "      <td>NaN</td>\n",
       "      <td>Parabéns lojas lannister adorei comprar pela I...</td>\n",
       "      <td>2018-03-01 00:00:00</td>\n",
       "      <td>2018-03-02 10:26:53</td>\n",
       "      <td>5986b333ca0d44534a156a52a8e33a83</td>\n",
       "      <td>delivered</td>\n",
       "      <td>2018-02-10 10:59:03</td>\n",
       "      <td>2018-02-10 15:48:21</td>\n",
       "      <td>2018-02-15 19:36:14</td>\n",
       "      <td>2018-02-28 16:33:35</td>\n",
       "      <td>2018-03-09 00:00:00</td>\n",
       "    </tr>\n",
       "  </tbody>\n",
       "</table>\n",
       "</div>"
      ],
      "text/plain": [
       "                          review_id                          order_id  \\\n",
       "0  7bc2406110b926393aa56f80a40eba40  73fc7af87114b39712e6da79b0a377eb   \n",
       "1  80e641a11e56f04c1ad469d5645fdfde  a548910a1c6147796b98fdf73dbeba33   \n",
       "2  228ce5500dc1d8e020d8d1322874b6f0  f9e4b658b201a9f2ecdecbb34bed034b   \n",
       "3  e64fb393e7b32834bb789ff8bb30750e  658677c97b385a9be170737859d3511b   \n",
       "4  f7c4243c7fe1938f181bec41a392bdeb  8e6bfb81e283fa7e4f11123a3fb894f1   \n",
       "\n",
       "   review_score review_comment_title  \\\n",
       "0             4                  NaN   \n",
       "1             5                  NaN   \n",
       "2             5                  NaN   \n",
       "3             5                  NaN   \n",
       "4             5                  NaN   \n",
       "\n",
       "                              review_comment_message review_creation_date  \\\n",
       "0                                                NaN  2018-01-18 00:00:00   \n",
       "1                                                NaN  2018-03-10 00:00:00   \n",
       "2                                                NaN  2018-02-17 00:00:00   \n",
       "3              Recebi bem antes do prazo estipulado.  2017-04-21 00:00:00   \n",
       "4  Parabéns lojas lannister adorei comprar pela I...  2018-03-01 00:00:00   \n",
       "\n",
       "  review_answer_timestamp                       customer_id order_status  \\\n",
       "0     2018-01-18 21:46:59  41dcb106f807e993532d446263290104    delivered   \n",
       "1     2018-03-11 03:05:13  8a2e7ef9053dea531e4dc76bd6d853e6    delivered   \n",
       "2     2018-02-18 14:36:24  e226dfed6544df5b7b87a48208690feb    delivered   \n",
       "3     2017-04-21 22:02:06  de6dff97e5f1ba84a3cd9a3bc97df5f6    delivered   \n",
       "4     2018-03-02 10:26:53  5986b333ca0d44534a156a52a8e33a83    delivered   \n",
       "\n",
       "  order_purchase_timestamp    order_approved_at order_delivered_carrier_date  \\\n",
       "0      2018-01-11 15:30:49  2018-01-11 15:47:59          2018-01-12 21:57:22   \n",
       "1      2018-02-28 12:25:19  2018-02-28 12:48:39          2018-03-02 19:08:15   \n",
       "2      2018-02-03 09:56:22  2018-02-03 10:33:41          2018-02-06 16:18:28   \n",
       "3      2017-04-09 17:41:13  2017-04-09 17:55:19          2017-04-10 14:24:47   \n",
       "4      2018-02-10 10:59:03  2018-02-10 15:48:21          2018-02-15 19:36:14   \n",
       "\n",
       "  order_delivered_customer_date order_estimated_delivery_date  \n",
       "0           2018-01-17 18:42:41           2018-02-02 00:00:00  \n",
       "1           2018-03-09 23:17:20           2018-03-14 00:00:00  \n",
       "2           2018-02-16 17:28:48           2018-03-09 00:00:00  \n",
       "3           2017-04-20 09:08:35           2017-05-10 00:00:00  \n",
       "4           2018-02-28 16:33:35           2018-03-09 00:00:00  "
      ]
     },
     "execution_count": 5,
     "metadata": {},
     "output_type": "execute_result"
    }
   ],
   "source": [
    "df = pd.merge(df_reviews, df_orders, on='order_id') \n",
    "df.head()"
   ]
  },
  {
   "cell_type": "code",
   "execution_count": 6,
   "id": "4ca4a96c-e422-43e3-aea1-195bf9a0abe4",
   "metadata": {},
   "outputs": [
    {
     "name": "stdout",
     "output_type": "stream",
     "text": [
      "Número de mensagens de reviews preenchidas: 40977\n",
      "Número de títulos de reviews preenchidos: 11568\n"
     ]
    }
   ],
   "source": [
    "count_review_message = df[df['review_comment_message'].notnull()].count()\n",
    "count_reviw_title = df[df['review_comment_title'].notnull()].count()\n",
    "print(f\"Número de mensagens de reviews preenchidas: {count_review_message['review_comment_message']}\")\n",
    "print(f\"Número de títulos de reviews preenchidos: {count_reviw_title['review_comment_title']}\")"
   ]
  },
  {
   "cell_type": "code",
   "execution_count": 7,
   "id": "360b37d2-404c-44bf-802d-4dffb3d20678",
   "metadata": {},
   "outputs": [
    {
     "data": {
      "image/png": "[encoded data removed]",
      "text/plain": [
       "<Figure size 640x480 with 1 Axes>"
      ]
     },
     "metadata": {},
     "output_type": "display_data"
    }
   ],
   "source": [
    "stars = df['review_score'].value_counts()\n",
    "stars = stars.reindex([5, 4, 3, 2, 1])\n",
    "stars.plot(kind='bar')\n",
    "\n",
    "plt.xlabel('Estrelas das Reviews')\n",
    "plt.ylabel('Número de Reviews')\n",
    "plt.title('Estrelas Vs. Número de Reviews')\n",
    "plt.show()"
   ]
  },
  {
   "cell_type": "code",
   "execution_count": 8,
   "id": "44ffab09-2d8a-4385-a2ff-bca20a00570f",
   "metadata": {},
   "outputs": [
    {
     "name": "stdout",
     "output_type": "stream",
     "text": [
      "Número de mensagens de reviews preenchidas: 40977\n",
      "Número de títulos de reviews preenchidos: 11568\n"
     ]
    }
   ],
   "source": [
    "count_review_message = df[df['review_comment_message'].notnull()].count()\n",
    "count_reviw_title = df[df['review_comment_title'].notnull()].count()\n",
    "print(f\"Número de mensagens de reviews preenchidas: {count_review_message['review_comment_message']}\")\n",
    "print(f\"Número de títulos de reviews preenchidos: {count_reviw_title['review_comment_title']}\")"
   ]
  },
  {
   "cell_type": "code",
   "execution_count": null,
   "id": "2b974379-7927-4311-88c9-6e5f64bb71b8",
   "metadata": {},
   "outputs": [],
   "source": []
  },
  {
   "cell_type": "code",
   "execution_count": null,
   "id": "59467b98-fa10-489b-a5e2-45a2bd3800d4",
   "metadata": {},
   "outputs": [],
   "source": []
  },
  {
   "cell_type": "code",
   "execution_count": 9,
   "id": "e777c2b3-324f-4caf-9280-a178bbed53f1",
   "metadata": {},
   "outputs": [],
   "source": [
    "# download stopwords em português\n",
    "stopwords_url = \"https://gist.githubusercontent.com/alopes/5358189/raw/2107d809cca6b83ce3d8e04dbd9463283025284f/stopwords.txt\"\n",
    "stopwords_list = urllib.request.urlopen(stopwords_url).read().decode()\n",
    "stopwords = set(stopwords_list.split())\n",
    "\n",
    "# stopwords"
   ]
  },
  {
   "cell_type": "code",
   "execution_count": null,
   "id": "a1dbe3bf-4a12-4642-b774-80b1330e88a5",
   "metadata": {},
   "outputs": [],
   "source": []
  },
  {
   "cell_type": "code",
   "execution_count": null,
   "id": "558f274f-4d2d-450f-b055-6d7971fa835f",
   "metadata": {},
   "outputs": [],
   "source": []
  },
  {
   "cell_type": "code",
   "execution_count": null,
   "id": "39fa43a6-8da6-47d2-a817-c5b410342eff",
   "metadata": {},
   "outputs": [],
   "source": []
  },
  {
   "cell_type": "code",
   "execution_count": null,
   "id": "4e226fbb-c419-4aa7-8014-1029dee14905",
   "metadata": {},
   "outputs": [],
   "source": []
  },
  {
   "cell_type": "code",
   "execution_count": null,
   "id": "10930bba-838d-4a31-a67a-ce6579804083",
   "metadata": {},
   "outputs": [],
   "source": []
  },
  {
   "cell_type": "code",
   "execution_count": null,
   "id": "b9bce27b-1d82-4e0c-b0e5-3f2e472582ae",
   "metadata": {},
   "outputs": [],
   "source": []
  },
  {
   "cell_type": "code",
   "execution_count": null,
   "id": "66aef1bc-af3a-4d3f-aa43-3ccfeb180601",
   "metadata": {},
   "outputs": [],
   "source": []
  },
  {
   "cell_type": "code",
   "execution_count": null,
   "id": "31eb2bfc-38c2-475c-8297-aed533e4d434",
   "metadata": {},
   "outputs": [],
   "source": []
  },
  {
   "cell_type": "code",
   "execution_count": null,
   "id": "6d50c41f-a84c-45c1-9e20-febb06310d3f",
   "metadata": {},
   "outputs": [],
   "source": []
  },
  {
   "cell_type": "code",
   "execution_count": null,
   "id": "9e24b088-e7f2-4b00-a6e6-30e4c7be7a7d",
   "metadata": {},
   "outputs": [],
   "source": []
  },
  {
   "cell_type": "code",
   "execution_count": null,
   "id": "f83504e8-d8ed-43ac-a9df-3c8cd9d20c35",
   "metadata": {},
   "outputs": [],
   "source": []
  },
  {
   "cell_type": "code",
   "execution_count": null,
   "id": "1e478f9d-ace0-4472-a9a5-edf9794dbed3",
   "metadata": {},
   "outputs": [],
   "source": []
  }
 ],
 "metadata": {
  "kernelspec": {
   "display_name": "Python 3 (ipykernel)",
   "language": "python",
   "name": "python3"
  },
  "language_info": {
   "codemirror_mode": {
    "name": "ipython",
    "version": 3
   },
   "file_extension": ".py",
   "mimetype": "text/x-python",
   "name": "python",
   "nbconvert_exporter": "python",
   "pygments_lexer": "ipython3",
   "version": "3.10.11"
  }
 },
 "nbformat": 4,
 "nbformat_minor": 5
}
